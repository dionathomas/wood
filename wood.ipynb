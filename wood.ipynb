{
 "cells": [
  {
   "cell_type": "markdown",
   "metadata": {
    "colab_type": "text",
    "id": "Uv0wARti0xoY"
   },
   "source": [
    "# New Section"
   ]
  },
  {
   "cell_type": "code",
   "execution_count": 0,
   "metadata": {
    "colab": {},
    "colab_type": "code",
    "id": "nE-6Hr9iFoAt"
   },
   "outputs": [],
   "source": [
    "import numpy as np\n",
    "import matplotlib\n",
    "import matplotlib.pyplot as plt\n",
    "import os\n",
    "import glob\n",
    "import re\n",
    "import cv2\n",
    "from time import time\n",
    "from tensorflow.keras.callbacks import TensorBoard\n",
    "from sklearn.utils import shuffle\n",
    "from sklearn.model_selection import train_test_split\n",
    "import tensorflow as tf\n",
    "from tensorflow.keras.preprocessing.image import ImageDataGenerator,img_to_array\n",
    "from tensorflow.keras import regularizers\n",
    "from tensorflow.keras.models import Sequential\n",
    "from tensorflow.keras.layers import Dense, Conv2D, MaxPooling2D, Dropout, Flatten\n",
    "from tensorflow.keras.callbacks import ModelCheckpoint,EarlyStopping\n",
    "\n",
    "def createModel(inputshape):\n",
    "    model = Sequential()\n",
    "    model.add(Conv2D(32, (3, 3), padding='same', activation='relu', input_shape=inputshape))\n",
    "    model.add(Conv2D(32, (3, 3), padding='same', activation='relu'))\n",
    "    model.add(MaxPooling2D(pool_size=(2, 2)))\n",
    "    model.add(Dropout(0.25))\n",
    " \n",
    "    model.add(Conv2D(64, (3, 3), padding='same', activation='relu'))\n",
    "    model.add(Conv2D(64, (3, 3), padding='same', activation='relu'))\n",
    "    model.add(MaxPooling2D(pool_size=(2, 2)))\n",
    "    model.add(Dropout(0.25))\n",
    " \n",
    "    model.add(Conv2D(64, (3, 3), padding='same', activation='relu'))\n",
    "    model.add(Conv2D(64, (3, 3), padding='same', activation='relu'))\n",
    "    model.add(MaxPooling2D(pool_size=(2, 2)))\n",
    "    model.add(Dropout(0.25))\n",
    "\n",
    "    model.add(Conv2D(64, (3, 3), padding='same', activation='relu'))\n",
    "    model.add(Conv2D(64, (3, 3), padding='same', activation='relu'))\n",
    "    model.add(MaxPooling2D(pool_size=(2, 2)))\n",
    "    model.add(Dropout(0.25))\n",
    "\n",
    "    model.add(Flatten())\n",
    "    model.add(Dense(512, activation='relu'))\n",
    "    model.add(Dropout(0.5))\n",
    "    model.add(Dense(12, activation='softmax'))\n",
    "     \n",
    "    return model\n",
    "\n",
    "def natural_key(string_):\n",
    "    return [int(s) if s.isdigit() else s for s in re.split(r'(\\d+)', string_)]"
   ]
  },
  {
   "cell_type": "code",
   "execution_count": 0,
   "metadata": {
    "colab": {},
    "colab_type": "code",
    "id": "096CmWdUkSVB"
   },
   "outputs": [],
   "source": [
    "paths = []\n",
    "l = []\n",
    "for i in range(1,13):\n",
    "    temp = [0,0,0,0,0,0,0,0,0,0,0,0]\n",
    "    paths.append('/WoodDataset/Train/' + str(i) + \"/\")\n",
    "    temp[i-1] = 1;\n",
    "    l.append(temp);\n",
    "\n",
    "uri = []\n",
    "for i in paths:\n",
    "    uri.append([sorted(glob.glob(os.path.join(os.getcwd() + i, '*.jpg')), key=natural_key)])\n",
    "\n",
    "width = 200\n",
    "height = 100\n",
    "shape = (height,width,3)\n",
    "dataset = []\n",
    "label = []"
   ]
  },
  {
   "cell_type": "code",
   "execution_count": 0,
   "metadata": {
    "colab": {},
    "colab_type": "code",
    "id": "r9245wDJkZAz"
   },
   "outputs": [],
   "source": [
    "for u in uri:\n",
    "    i = 0 \n",
    "    for path in u:\n",
    "      temp = l[i];\n",
    "      for sub_path in path:\n",
    "        img = cv2.imread(path[0])\n",
    "        img = cv2.resize(img,(width,height))\n",
    "        img = img_to_array(img)\n",
    "        dataset.append(img)\n",
    "        label.append(temp)\n",
    "      i += 1"
   ]
  },
  {
   "cell_type": "code",
   "execution_count": 0,
   "metadata": {
    "colab": {},
    "colab_type": "code",
    "id": "mhuN8OyIpCVh"
   },
   "outputs": [],
   "source": [
    "dataset = np.array(dataset, dtype=\"float\") / 255.0\n",
    "label = np.array(label, dtype = 'int')\n",
    "dataset,label = shuffle(dataset,label)\n",
    "\n",
    "(trainX, testX, trainY, testY) = train_test_split(dataset,label)"
   ]
  },
  {
   "cell_type": "code",
   "execution_count": 0,
   "metadata": {
    "colab": {
     "base_uri": "https://localhost:8080/",
     "height": 54
    },
    "colab_type": "code",
    "id": "3fI7Fy5eD9mK",
    "outputId": "e56023be-3ee1-46e8-b369-fa6a13e7366d"
   },
   "outputs": [
    {
     "name": "stdout",
     "output_type": "stream",
     "text": [
      "WARNING:tensorflow:`period` argument is deprecated. Please use `save_freq` to specify the frequency in number of batches seen.\n"
     ]
    }
   ],
   "source": [
    "model = createModel(shape)\n",
    "model.compile(optimizer = tf.keras.optimizers.SGD(lr = 0.03,momentum = 0.1), \n",
    "    loss=tf.keras.losses.categorical_crossentropy,\n",
    "    metrics=[tf.keras.metrics.categorical_accuracy,tf.keras.metrics.mae]\n",
    ")\n",
    "\n",
    "tensorboard = TensorBoard(log_dir=\"logs/{}\".format(time()))\n",
    "\n",
    "cb = [tensorboard,tf.keras.callbacks.ModelCheckpoint('./savedmodel/model{epoch:04d}-{val_categorical_accuracy:.4f}.h5', monitor='val_categorical_accuracy', verbose=0, save_best_only=False, save_weights_only=False, mode='auto', period=1)]\n"
   ]
  },
  {
   "cell_type": "code",
   "execution_count": 0,
   "metadata": {
    "colab": {
     "base_uri": "https://localhost:8080/",
     "height": 207
    },
    "colab_type": "code",
    "id": "_kqD4gNHFTY6",
    "outputId": "e54df8ae-edbb-4439-ccee-9760965c0c1e"
   },
   "outputs": [
    {
     "name": "stdout",
     "output_type": "stream",
     "text": [
      "Epoch 1/5\n",
      "429/429 [==============================] - 13s 30ms/step - loss: 0.0120 - categorical_accuracy: 0.9977 - mean_absolute_error: 8.6138e-04 - val_loss: 3.7091e-08 - val_categorical_accuracy: 1.0000 - val_mean_absolute_error: 6.8285e-09\n",
      "Epoch 2/5\n",
      "429/429 [==============================] - 13s 31ms/step - loss: 4.0934e-09 - categorical_accuracy: 1.0000 - mean_absolute_error: 7.7618e-10 - val_loss: 3.7091e-08 - val_categorical_accuracy: 1.0000 - val_mean_absolute_error: 6.8266e-09\n",
      "Epoch 3/5\n",
      "429/429 [==============================] - 13s 30ms/step - loss: 3.6200e-09 - categorical_accuracy: 1.0000 - mean_absolute_error: 6.8661e-10 - val_loss: 3.7091e-08 - val_categorical_accuracy: 1.0000 - val_mean_absolute_error: 6.8249e-09\n",
      "Epoch 4/5\n",
      "429/429 [==============================] - 14s 32ms/step - loss: 2.5089e-08 - categorical_accuracy: 1.0000 - mean_absolute_error: 4.2489e-09 - val_loss: 3.7091e-08 - val_categorical_accuracy: 1.0000 - val_mean_absolute_error: 6.8119e-09\n",
      "Epoch 5/5\n",
      "429/429 [==============================] - 13s 31ms/step - loss: 8.4374e-09 - categorical_accuracy: 1.0000 - mean_absolute_error: 1.4828e-09 - val_loss: 3.7091e-08 - val_categorical_accuracy: 1.0000 - val_mean_absolute_error: 6.8076e-09\n"
     ]
    }
   ],
   "source": [
    "history = model.fit(trainX,trainY,epochs = 5,batch_size = 10,validation_data=(testX,testY),callbacks = cb)"
   ]
  },
  {
   "cell_type": "code",
   "execution_count": 3,
   "metadata": {
    "colab": {
     "base_uri": "https://localhost:8080/",
     "height": 938
    },
    "colab_type": "code",
    "id": "zBMuVSgJ2DQL",
    "outputId": "0761fcea-65e2-413a-9533-607957936c36"
   },
   "outputs": [
    {
     "name": "stdout",
     "output_type": "stream",
     "text": [
      "2020-06-06 08:56:21.093308: I tensorflow/stream_executor/platform/default/dso_loader.cc:44] Successfully opened dynamic library libcudart.so.10.1\n",
      "['/content/wood/WoodDataset/Test/1/749_1.jpg', '/content/wood/WoodDataset/Test/1/750_1.jpg', '/content/wood/WoodDataset/Test/1/751_1.jpg', '/content/wood/WoodDataset/Test/1/752_1.jpg', '/content/wood/WoodDataset/Test/1/753_1.jpg', '/content/wood/WoodDataset/Test/1/754_1.jpg', '/content/wood/WoodDataset/Test/1/755_1.jpg', '/content/wood/WoodDataset/Test/1/756_1.jpg', '/content/wood/WoodDataset/Test/1/757_1.jpg', '/content/wood/WoodDataset/Test/1/758_1.jpg', '/content/wood/WoodDataset/Test/1/759_1.jpg', '/content/wood/WoodDataset/Test/1/760_1.jpg', '/content/wood/WoodDataset/Test/1/761_1.jpg', '/content/wood/WoodDataset/Test/1/762_1.jpg', '/content/wood/WoodDataset/Test/1/763_1.jpg', '/content/wood/WoodDataset/Test/1/764_1.jpg', '/content/wood/WoodDataset/Test/1/765_1.jpg', '/content/wood/WoodDataset/Test/1/766_1.jpg', '/content/wood/WoodDataset/Test/1/767_1.jpg', '/content/wood/WoodDataset/Test/1/768_1.jpg', '/content/wood/WoodDataset/Test/1/769_1.jpg', '/content/wood/WoodDataset/Test/1/770_1.jpg', '/content/wood/WoodDataset/Test/1/771_1.jpg', '/content/wood/WoodDataset/Test/1/772_1.jpg', '/content/wood/WoodDataset/Test/1/773_1.jpg', '/content/wood/WoodDataset/Test/1/774_1.jpg', '/content/wood/WoodDataset/Test/1/775_1.jpg', '/content/wood/WoodDataset/Test/1/776_1.jpg', '/content/wood/WoodDataset/Test/1/777_1.jpg', '/content/wood/WoodDataset/Test/1/778_1.jpg', '/content/wood/WoodDataset/Test/1/779_1.jpg', '/content/wood/WoodDataset/Test/1/780_1.jpg', '/content/wood/WoodDataset/Test/1/781_1.jpg', '/content/wood/WoodDataset/Test/1/782_1.jpg', '/content/wood/WoodDataset/Test/1/783_1.jpg', '/content/wood/WoodDataset/Test/1/784_1.jpg', '/content/wood/WoodDataset/Test/1/785_1.jpg', '/content/wood/WoodDataset/Test/1/786_1.jpg', '/content/wood/WoodDataset/Test/1/787_1.jpg', '/content/wood/WoodDataset/Test/1/788_1.jpg', '/content/wood/WoodDataset/Test/1/789_1.jpg', '/content/wood/WoodDataset/Test/1/790_1.jpg', '/content/wood/WoodDataset/Test/1/791_1.jpg', '/content/wood/WoodDataset/Test/1/792_1.jpg', '/content/wood/WoodDataset/Test/1/793_1.jpg', '/content/wood/WoodDataset/Test/1/794_1.jpg', '/content/wood/WoodDataset/Test/1/795_1.jpg', '/content/wood/WoodDataset/Test/1/796_1.jpg', '/content/wood/WoodDataset/Test/1/797_1.jpg', '/content/wood/WoodDataset/Test/1/798_1.jpg', '/content/wood/WoodDataset/Test/1/799_1.jpg', '/content/wood/WoodDataset/Test/1/800_1.jpg', '/content/wood/WoodDataset/Test/1/801_1.jpg', '/content/wood/WoodDataset/Test/1/802_1.jpg', '/content/wood/WoodDataset/Test/1/803_1.jpg', '/content/wood/WoodDataset/Test/1/804_1.jpg', '/content/wood/WoodDataset/Test/1/805_1.jpg', '/content/wood/WoodDataset/Test/1/806_1.jpg', '/content/wood/WoodDataset/Test/1/807_1.jpg', '/content/wood/WoodDataset/Test/1/808_1.jpg', '/content/wood/WoodDataset/Test/1/809_1.jpg', '/content/wood/WoodDataset/Test/1/810_1.jpg', '/content/wood/WoodDataset/Test/1/811_1.jpg', '/content/wood/WoodDataset/Test/1/812_1.jpg', '/content/wood/WoodDataset/Test/1/813_1.jpg', '/content/wood/WoodDataset/Test/1/814_1.jpg', '/content/wood/WoodDataset/Test/1/815_1.jpg', '/content/wood/WoodDataset/Test/1/816_1.jpg', '/content/wood/WoodDataset/Test/1/817_1.jpg', '/content/wood/WoodDataset/Test/1/818_1.jpg', '/content/wood/WoodDataset/Test/1/819_1.jpg', '/content/wood/WoodDataset/Test/1/820_1.jpg', '/content/wood/WoodDataset/Test/1/821_1.jpg', '/content/wood/WoodDataset/Test/1/822_1.jpg', '/content/wood/WoodDataset/Test/1/823_1.jpg', '/content/wood/WoodDataset/Test/1/824_1.jpg', '/content/wood/WoodDataset/Test/1/825_1.jpg', '/content/wood/WoodDataset/Test/1/826_1.jpg', '/content/wood/WoodDataset/Test/1/827_1.jpg', '/content/wood/WoodDataset/Test/1/828_1.jpg', '/content/wood/WoodDataset/Test/1/829_1.jpg', '/content/wood/WoodDataset/Test/1/830_1.jpg', '/content/wood/WoodDataset/Test/1/831_1.jpg', '/content/wood/WoodDataset/Test/1/832_1.jpg', '/content/wood/WoodDataset/Test/1/833_1.jpg', '/content/wood/WoodDataset/Test/1/834_1.jpg', '/content/wood/WoodDataset/Test/1/835_1.jpg', '/content/wood/WoodDataset/Test/1/836_1.jpg', '/content/wood/WoodDataset/Test/1/837_1.jpg', '/content/wood/WoodDataset/Test/1/838_1.jpg', '/content/wood/WoodDataset/Test/1/839_1.jpg', '/content/wood/WoodDataset/Test/1/840_1.jpg', '/content/wood/WoodDataset/Test/1/841_1.jpg', '/content/wood/WoodDataset/Test/1/842_1.jpg', '/content/wood/WoodDataset/Test/1/843_1.jpg', '/content/wood/WoodDataset/Test/1/844_1.jpg', '/content/wood/WoodDataset/Test/1/845_1.jpg', '/content/wood/WoodDataset/Test/1/846_1.jpg', '/content/wood/WoodDataset/Test/1/847_1.jpg', '/content/wood/WoodDataset/Test/1/848_1.jpg', '/content/wood/WoodDataset/Test/1/849_1.jpg', '/content/wood/WoodDataset/Test/1/850_1.jpg', '/content/wood/WoodDataset/Test/1/851_1.jpg', '/content/wood/WoodDataset/Test/1/852_1.jpg', '/content/wood/WoodDataset/Test/1/853_1.jpg', '/content/wood/WoodDataset/Test/1/854_1.jpg', '/content/wood/WoodDataset/Test/1/855_1.jpg', '/content/wood/WoodDataset/Test/1/856_1.jpg', '/content/wood/WoodDataset/Test/1/857_1.jpg', '/content/wood/WoodDataset/Test/1/858_1.jpg', '/content/wood/WoodDataset/Test/1/859_1.jpg', '/content/wood/WoodDataset/Test/1/860_1.jpg', '/content/wood/WoodDataset/Test/1/861_1.jpg', '/content/wood/WoodDataset/Test/1/862_1.jpg', '/content/wood/WoodDataset/Test/1/863_1.jpg', '/content/wood/WoodDataset/Test/1/864_1.jpg', '/content/wood/WoodDataset/Test/1/865_1.jpg', '/content/wood/WoodDataset/Test/1/866_1.jpg', '/content/wood/WoodDataset/Test/1/867_1.jpg', '/content/wood/WoodDataset/Test/1/868_1.jpg', '/content/wood/WoodDataset/Test/1/869_1.jpg', '/content/wood/WoodDataset/Test/1/870_1.jpg', '/content/wood/WoodDataset/Test/1/871_1.jpg', '/content/wood/WoodDataset/Test/1/872_1.jpg', '/content/wood/WoodDataset/Test/1/873_1.jpg', '/content/wood/WoodDataset/Test/1/874_1.jpg', '/content/wood/WoodDataset/Test/1/875_1.jpg', '/content/wood/WoodDataset/Test/1/876_1.jpg', '/content/wood/WoodDataset/Test/1/877_1.jpg', '/content/wood/WoodDataset/Test/1/878_1.jpg', '/content/wood/WoodDataset/Test/1/879_1.jpg', '/content/wood/WoodDataset/Test/1/880_1.jpg', '/content/wood/WoodDataset/Test/1/881_1.jpg', '/content/wood/WoodDataset/Test/1/882_1.jpg', '/content/wood/WoodDataset/Test/1/883_1.jpg', '/content/wood/WoodDataset/Test/1/884_1.jpg', '/content/wood/WoodDataset/Test/1/885_1.jpg', '/content/wood/WoodDataset/Test/1/886_1.jpg', '/content/wood/WoodDataset/Test/1/887_1.jpg', '/content/wood/WoodDataset/Test/1/888_1.jpg', '/content/wood/WoodDataset/Test/1/889_1.jpg', '/content/wood/WoodDataset/Test/1/890_1.jpg', '/content/wood/WoodDataset/Test/1/891_1.jpg', '/content/wood/WoodDataset/Test/1/892_1.jpg', '/content/wood/WoodDataset/Test/1/893_1.jpg', '/content/wood/WoodDataset/Test/1/894_1.jpg', '/content/wood/WoodDataset/Test/1/895_1.jpg', '/content/wood/WoodDataset/Test/1/896_1.jpg', '/content/wood/WoodDataset/Test/1/897_1.jpg', '/content/wood/WoodDataset/Test/1/898_1.jpg', '/content/wood/WoodDataset/Test/1/899_1.jpg', '/content/wood/WoodDataset/Test/1/900_1.jpg', '/content/wood/WoodDataset/Test/1/901_1.jpg', '/content/wood/WoodDataset/Test/1/902_1.jpg', '/content/wood/WoodDataset/Test/1/903_1.jpg', '/content/wood/WoodDataset/Test/1/904_1.jpg', '/content/wood/WoodDataset/Test/1/905_1.jpg', '/content/wood/WoodDataset/Test/1/906_1.jpg', '/content/wood/WoodDataset/Test/1/907_1.jpg', '/content/wood/WoodDataset/Test/1/908_1.jpg', '/content/wood/WoodDataset/Test/1/909_1.jpg', '/content/wood/WoodDataset/Test/1/910_1.jpg', '/content/wood/WoodDataset/Test/1/911_1.jpg', '/content/wood/WoodDataset/Test/1/912_1.jpg', '/content/wood/WoodDataset/Test/1/913_1.jpg', '/content/wood/WoodDataset/Test/1/914_1.jpg', '/content/wood/WoodDataset/Test/1/915_1.jpg', '/content/wood/WoodDataset/Test/1/916_1.jpg', '/content/wood/WoodDataset/Test/1/917_1.jpg', '/content/wood/WoodDataset/Test/1/918_1.jpg', '/content/wood/WoodDataset/Test/1/919_1.jpg', '/content/wood/WoodDataset/Test/1/920_1.jpg', '/content/wood/WoodDataset/Test/1/921_1.jpg', '/content/wood/WoodDataset/Test/1/922_1.jpg', '/content/wood/WoodDataset/Test/1/923_1.jpg', '/content/wood/WoodDataset/Test/1/924_1.jpg', '/content/wood/WoodDataset/Test/1/925_1.jpg', '/content/wood/WoodDataset/Test/1/926_1.jpg', '/content/wood/WoodDataset/Test/1/927_1.jpg', '/content/wood/WoodDataset/Test/1/928_1.jpg', '/content/wood/WoodDataset/Test/1/929_1.jpg', '/content/wood/WoodDataset/Test/1/930_1.jpg', '/content/wood/WoodDataset/Test/1/931_1.jpg', '/content/wood/WoodDataset/Test/1/932_1.jpg', '/content/wood/WoodDataset/Test/1/933_1.jpg', '/content/wood/WoodDataset/Test/1/934_1.jpg', '/content/wood/WoodDataset/Test/1/935_1.jpg', '/content/wood/WoodDataset/Test/1/936_1.jpg', '/content/wood/WoodDataset/Test/1/937_1.jpg', '/content/wood/WoodDataset/Test/1/938_1.jpg', '/content/wood/WoodDataset/Test/1/939_1.jpg', '/content/wood/WoodDataset/Test/1/940_1.jpg', '/content/wood/WoodDataset/Test/1/941_1.jpg', '/content/wood/WoodDataset/Test/1/942_1.jpg', '/content/wood/WoodDataset/Test/1/943_1.jpg', '/content/wood/WoodDataset/Test/1/944_1.jpg', '/content/wood/WoodDataset/Test/1/945_1.jpg', '/content/wood/WoodDataset/Test/1/946_1.jpg', '/content/wood/WoodDataset/Test/1/947_1.jpg', '/content/wood/WoodDataset/Test/1/948_1.jpg', '/content/wood/WoodDataset/Test/1/949_1.jpg', '/content/wood/WoodDataset/Test/1/950_1.jpg', '/content/wood/WoodDataset/Test/1/951_1.jpg', '/content/wood/WoodDataset/Test/1/952_1.jpg', '/content/wood/WoodDataset/Test/1/953_1.jpg', '/content/wood/WoodDataset/Test/1/954_1.jpg', '/content/wood/WoodDataset/Test/1/955_1.jpg', '/content/wood/WoodDataset/Test/1/956_1.jpg', '/content/wood/WoodDataset/Test/1/957_1.jpg', '/content/wood/WoodDataset/Test/1/958_1.jpg', '/content/wood/WoodDataset/Test/1/959_1.jpg', '/content/wood/WoodDataset/Test/1/960_1.jpg', '/content/wood/WoodDataset/Test/1/961_1.jpg', '/content/wood/WoodDataset/Test/1/962_1.jpg', '/content/wood/WoodDataset/Test/1/963_1.jpg', '/content/wood/WoodDataset/Test/1/964_1.jpg', '/content/wood/WoodDataset/Test/1/965_1.jpg', '/content/wood/WoodDataset/Test/1/966_1.jpg', '/content/wood/WoodDataset/Test/1/967_1.jpg', '/content/wood/WoodDataset/Test/1/968_1.jpg', '/content/wood/WoodDataset/Test/1/969_1.jpg', '/content/wood/WoodDataset/Test/1/970_1.jpg', '/content/wood/WoodDataset/Test/1/971_1.jpg', '/content/wood/WoodDataset/Test/1/972_1.jpg', '/content/wood/WoodDataset/Test/1/973_1.jpg', '/content/wood/WoodDataset/Test/1/974_1.jpg', '/content/wood/WoodDataset/Test/1/975_1.jpg', '/content/wood/WoodDataset/Test/1/976_1.jpg', '/content/wood/WoodDataset/Test/1/977_1.jpg', '/content/wood/WoodDataset/Test/1/978_1.jpg', '/content/wood/WoodDataset/Test/1/979_1.jpg', '/content/wood/WoodDataset/Test/1/980_1.jpg', '/content/wood/WoodDataset/Test/1/981_1.jpg', '/content/wood/WoodDataset/Test/1/982_1.jpg', '/content/wood/WoodDataset/Test/1/983_1.jpg', '/content/wood/WoodDataset/Test/1/984_1.jpg', '/content/wood/WoodDataset/Test/1/985_1.jpg', '/content/wood/WoodDataset/Test/1/986_1.jpg', '/content/wood/WoodDataset/Test/1/987_1.jpg', '/content/wood/WoodDataset/Test/1/988_1.jpg', '/content/wood/WoodDataset/Test/1/989_1.jpg', '/content/wood/WoodDataset/Test/1/990_1.jpg', '/content/wood/WoodDataset/Test/1/991_1.jpg', '/content/wood/WoodDataset/Test/1/992_1.jpg', '/content/wood/WoodDataset/Test/1/993_1.jpg', '/content/wood/WoodDataset/Test/1/994_1.jpg', '/content/wood/WoodDataset/Test/1/995_1.jpg', '/content/wood/WoodDataset/Test/1/996_1.jpg', '/content/wood/WoodDataset/Test/1/997_1.jpg', '/content/wood/WoodDataset/Test/1/998_1.jpg', '/content/wood/WoodDataset/Test/1/999_1.jpg', '/content/wood/WoodDataset/Test/1/1000_1.jpg', '/content/wood/WoodDataset/Test/1/1001_1.jpg', '/content/wood/WoodDataset/Test/1/1002_1.jpg', '/content/wood/WoodDataset/Test/1/1003_1.jpg', '/content/wood/WoodDataset/Test/1/1004_1.jpg', '/content/wood/WoodDataset/Test/1/1005_1.jpg', '/content/wood/WoodDataset/Test/1/1006_1.jpg', '/content/wood/WoodDataset/Test/1/1007_1.jpg', '/content/wood/WoodDataset/Test/1/1008_1.jpg', '/content/wood/WoodDataset/Test/1/1009_1.jpg', '/content/wood/WoodDataset/Test/1/1010_1.jpg', '/content/wood/WoodDataset/Test/1/1011_1.jpg', '/content/wood/WoodDataset/Test/1/1012_1.jpg', '/content/wood/WoodDataset/Test/1/1013_1.jpg', '/content/wood/WoodDataset/Test/1/1014_1.jpg', '/content/wood/WoodDataset/Test/1/1015_1.jpg', '/content/wood/WoodDataset/Test/1/1016_1.jpg', '/content/wood/WoodDataset/Test/1/1017_1.jpg', '/content/wood/WoodDataset/Test/1/1018_1.jpg', '/content/wood/WoodDataset/Test/1/1019_1.jpg', '/content/wood/WoodDataset/Test/1/1020_1.jpg', '/content/wood/WoodDataset/Test/1/1021_1.jpg', '/content/wood/WoodDataset/Test/1/1022_1.jpg', '/content/wood/WoodDataset/Test/1/1023_1.jpg', '/content/wood/WoodDataset/Test/1/1024_1.jpg', '/content/wood/WoodDataset/Test/1/1025_1.jpg', '/content/wood/WoodDataset/Test/1/1026_1.jpg', '/content/wood/WoodDataset/Test/1/1027_1.jpg', '/content/wood/WoodDataset/Test/1/1028_1.jpg', '/content/wood/WoodDataset/Test/1/1029_1.jpg', '/content/wood/WoodDataset/Test/1/1030_1.jpg', '/content/wood/WoodDataset/Test/1/1031_1.jpg', '/content/wood/WoodDataset/Test/1/1032_1.jpg', '/content/wood/WoodDataset/Test/1/1033_1.jpg', '/content/wood/WoodDataset/Test/1/1034_1.jpg', '/content/wood/WoodDataset/Test/1/1035_1.jpg', '/content/wood/WoodDataset/Test/1/1036_1.jpg', '/content/wood/WoodDataset/Test/1/1037_1.jpg', '/content/wood/WoodDataset/Test/1/1038_1.jpg', '/content/wood/WoodDataset/Test/1/1039_1.jpg', '/content/wood/WoodDataset/Test/1/1040_1.jpg', '/content/wood/WoodDataset/Test/1/1041_1.jpg', '/content/wood/WoodDataset/Test/1/1042_1.jpg', '/content/wood/WoodDataset/Test/1/1043_1.jpg', '/content/wood/WoodDataset/Test/1/1044_1.jpg', '/content/wood/WoodDataset/Test/1/1045_1.jpg', '/content/wood/WoodDataset/Test/1/1046_1.jpg', '/content/wood/WoodDataset/Test/1/1047_1.jpg', '/content/wood/WoodDataset/Test/1/1048_1.jpg', '/content/wood/WoodDataset/Test/1/1049_1.jpg', '/content/wood/WoodDataset/Test/1/1050_1.jpg', '/content/wood/WoodDataset/Test/1/1051_1.jpg', '/content/wood/WoodDataset/Test/1/1052_1.jpg', '/content/wood/WoodDataset/Test/1/1053_1.jpg', '/content/wood/WoodDataset/Test/1/1054_1.jpg', '/content/wood/WoodDataset/Test/1/1055_1.jpg', '/content/wood/WoodDataset/Test/1/1056_1.jpg', '/content/wood/WoodDataset/Test/1/1057_1.jpg', '/content/wood/WoodDataset/Test/1/1058_1.jpg', '/content/wood/WoodDataset/Test/1/1059_1.jpg', '/content/wood/WoodDataset/Test/1/1060_1.jpg', '/content/wood/WoodDataset/Test/1/1061_1.jpg', '/content/wood/WoodDataset/Test/1/1062_1.jpg', '/content/wood/WoodDataset/Test/1/1063_1.jpg', '/content/wood/WoodDataset/Test/1/1064_1.jpg', '/content/wood/WoodDataset/Test/1/1065_1.jpg', '/content/wood/WoodDataset/Test/1/1066_1.jpg', '/content/wood/WoodDataset/Test/1/1067_1.jpg', '/content/wood/WoodDataset/Test/1/1068_1.jpg', '/content/wood/WoodDataset/Test/1/1069_1.jpg', '/content/wood/WoodDataset/Test/1/1070_1.jpg', '/content/wood/WoodDataset/Test/1/1071_1.jpg', '/content/wood/WoodDataset/Test/1/1072_1.jpg', '/content/wood/WoodDataset/Test/1/1073_1.jpg', '/content/wood/WoodDataset/Test/1/1074_1.jpg', '/content/wood/WoodDataset/Test/1/1075_1.jpg', '/content/wood/WoodDataset/Test/1/1076_1.jpg', '/content/wood/WoodDataset/Test/1/1077_1.jpg', '/content/wood/WoodDataset/Test/1/1078_1.jpg', '/content/wood/WoodDataset/Test/1/1079_1.jpg', '/content/wood/WoodDataset/Test/1/1080_1.jpg', '/content/wood/WoodDataset/Test/1/1081_1.jpg', '/content/wood/WoodDataset/Test/1/1082_1.jpg', '/content/wood/WoodDataset/Test/1/1083_1.jpg', '/content/wood/WoodDataset/Test/1/1084_1.jpg', '/content/wood/WoodDataset/Test/1/1085_1.jpg', '/content/wood/WoodDataset/Test/1/1086_1.jpg', '/content/wood/WoodDataset/Test/1/1087_1.jpg', '/content/wood/WoodDataset/Test/1/1088_1.jpg', '/content/wood/WoodDataset/Test/1/1089_1.jpg', '/content/wood/WoodDataset/Test/1/1090_1.jpg', '/content/wood/WoodDataset/Test/1/1091_1.jpg', '/content/wood/WoodDataset/Test/1/1092_1.jpg', '/content/wood/WoodDataset/Test/1/1093_1.jpg', '/content/wood/WoodDataset/Test/1/1094_1.jpg', '/content/wood/WoodDataset/Test/1/1095_1.jpg', '/content/wood/WoodDataset/Test/1/1096_1.jpg', '/content/wood/WoodDataset/Test/1/1097_1.jpg', '/content/wood/WoodDataset/Test/1/1098_1.jpg', '/content/wood/WoodDataset/Test/1/1099_1.jpg', '/content/wood/WoodDataset/Test/1/1100_1.jpg', '/content/wood/WoodDataset/Test/1/1101_1.jpg', '/content/wood/WoodDataset/Test/1/1102_1.jpg', '/content/wood/WoodDataset/Test/1/1103_1.jpg', '/content/wood/WoodDataset/Test/1/1104_1.jpg', '/content/wood/WoodDataset/Test/1/1105_1.jpg', '/content/wood/WoodDataset/Test/1/1106_1.jpg', '/content/wood/WoodDataset/Test/1/1107_1.jpg', '/content/wood/WoodDataset/Test/1/1108_1.jpg', '/content/wood/WoodDataset/Test/1/1109_1.jpg', '/content/wood/WoodDataset/Test/1/1110_1.jpg', '/content/wood/WoodDataset/Test/1/1111_1.jpg', '/content/wood/WoodDataset/Test/1/1112_1.jpg', '/content/wood/WoodDataset/Test/1/1113_1.jpg', '/content/wood/WoodDataset/Test/1/1114_1.jpg', '/content/wood/WoodDataset/Test/1/1115_1.jpg', '/content/wood/WoodDataset/Test/1/1116_1.jpg', '/content/wood/WoodDataset/Test/1/1117_1.jpg', '/content/wood/WoodDataset/Test/1/1118_1.jpg', '/content/wood/WoodDataset/Test/1/1119_1.jpg', '/content/wood/WoodDataset/Test/1/1120_1.jpg', '/content/wood/WoodDataset/Test/1/1121_1.jpg', '/content/wood/WoodDataset/Test/1/1122_1.jpg', '/content/wood/WoodDataset/Test/1/1123_1.jpg', '/content/wood/WoodDataset/Test/1/1124_1.jpg', '/content/wood/WoodDataset/Test/1/1125_1.jpg', '/content/wood/WoodDataset/Test/1/1126_1.jpg', '/content/wood/WoodDataset/Test/1/1127_1.jpg', '/content/wood/WoodDataset/Test/1/1128_1.jpg', '/content/wood/WoodDataset/Test/1/1129_1.jpg', '/content/wood/WoodDataset/Test/1/1130_1.jpg', '/content/wood/WoodDataset/Test/1/1131_1.jpg', '/content/wood/WoodDataset/Test/1/1132_1.jpg', '/content/wood/WoodDataset/Test/1/1133_1.jpg', '/content/wood/WoodDataset/Test/1/1134_1.jpg', '/content/wood/WoodDataset/Test/1/1135_1.jpg', '/content/wood/WoodDataset/Test/1/1136_1.jpg', '/content/wood/WoodDataset/Test/1/1137_1.jpg', '/content/wood/WoodDataset/Test/1/1138_1.jpg', '/content/wood/WoodDataset/Test/1/1139_1.jpg', '/content/wood/WoodDataset/Test/1/1140_1.jpg', '/content/wood/WoodDataset/Test/1/1141_1.jpg', '/content/wood/WoodDataset/Test/1/1142_1.jpg', '/content/wood/WoodDataset/Test/1/1143_1.jpg', '/content/wood/WoodDataset/Test/1/1144_1.jpg', '/content/wood/WoodDataset/Test/1/1145_1.jpg', '/content/wood/WoodDataset/Test/1/1146_1.jpg', '/content/wood/WoodDataset/Test/1/1147_1.jpg', '/content/wood/WoodDataset/Test/1/1148_1.jpg', '/content/wood/WoodDataset/Test/1/1149_1.jpg', '/content/wood/WoodDataset/Test/1/1150_1.jpg', '/content/wood/WoodDataset/Test/1/1151_1.jpg', '/content/wood/WoodDataset/Test/1/1152_1.jpg', '/content/wood/WoodDataset/Test/1/1153_1.jpg', '/content/wood/WoodDataset/Test/1/1154_1.jpg', '/content/wood/WoodDataset/Test/1/1155_1.jpg', '/content/wood/WoodDataset/Test/1/1156_1.jpg', '/content/wood/WoodDataset/Test/1/1157_1.jpg', '/content/wood/WoodDataset/Test/1/1158_1.jpg', '/content/wood/WoodDataset/Test/1/1159_1.jpg', '/content/wood/WoodDataset/Test/1/1160_1.jpg', '/content/wood/WoodDataset/Test/1/1161_1.jpg', '/content/wood/WoodDataset/Test/1/1162_1.jpg', '/content/wood/WoodDataset/Test/1/1163_1.jpg', '/content/wood/WoodDataset/Test/1/1164_1.jpg', '/content/wood/WoodDataset/Test/1/1165_1.jpg', '/content/wood/WoodDataset/Test/1/1166_1.jpg', '/content/wood/WoodDataset/Test/1/1167_1.jpg', '/content/wood/WoodDataset/Test/1/1168_1.jpg', '/content/wood/WoodDataset/Test/1/1169_1.jpg', '/content/wood/WoodDataset/Test/1/1170_1.jpg', '/content/wood/WoodDataset/Test/1/1171_1.jpg', '/content/wood/WoodDataset/Test/1/1172_1.jpg', '/content/wood/WoodDataset/Test/1/1173_1.jpg', '/content/wood/WoodDataset/Test/1/1174_1.jpg', '/content/wood/WoodDataset/Test/1/1175_1.jpg', '/content/wood/WoodDataset/Test/1/1176_1.jpg', '/content/wood/WoodDataset/Test/1/1177_1.jpg', '/content/wood/WoodDataset/Test/1/1178_1.jpg', '/content/wood/WoodDataset/Test/1/1179_1.jpg', '/content/wood/WoodDataset/Test/1/1180_1.jpg', '/content/wood/WoodDataset/Test/1/1181_1.jpg', '/content/wood/WoodDataset/Test/1/1182_1.jpg', '/content/wood/WoodDataset/Test/1/1183_1.jpg', '/content/wood/WoodDataset/Test/1/1184_1.jpg', '/content/wood/WoodDataset/Test/1/1185_1.jpg', '/content/wood/WoodDataset/Test/1/1186_1.jpg', '/content/wood/WoodDataset/Test/1/1187_1.jpg', '/content/wood/WoodDataset/Test/1/1188_1.jpg', '/content/wood/WoodDataset/Test/1/1189_1.jpg', '/content/wood/WoodDataset/Test/1/1190_1.jpg', '/content/wood/WoodDataset/Test/1/1191_1.jpg', '/content/wood/WoodDataset/Test/1/1192_1.jpg', '/content/wood/WoodDataset/Test/1/1193_1.jpg', '/content/wood/WoodDataset/Test/1/1194_1.jpg', '/content/wood/WoodDataset/Test/1/1195_1.jpg', '/content/wood/WoodDataset/Test/1/1196_1.jpg', '/content/wood/WoodDataset/Test/1/1197_1.jpg', '/content/wood/WoodDataset/Test/1/1198_1.jpg', '/content/wood/WoodDataset/Test/1/1199_1.jpg', '/content/wood/WoodDataset/Test/1/1200_1.jpg', '/content/wood/WoodDataset/Test/1/1201_1.jpg', '/content/wood/WoodDataset/Test/1/1202_1.jpg', '/content/wood/WoodDataset/Test/1/1203_1.jpg', '/content/wood/WoodDataset/Test/1/1204_1.jpg', '/content/wood/WoodDataset/Test/1/1205_1.jpg', '/content/wood/WoodDataset/Test/1/1206_1.jpg', '/content/wood/WoodDataset/Test/1/1207_1.jpg', '/content/wood/WoodDataset/Test/1/1208_1.jpg', '/content/wood/WoodDataset/Test/1/1209_1.jpg', '/content/wood/WoodDataset/Test/1/1210_1.jpg', '/content/wood/WoodDataset/Test/1/1211_1.jpg', '/content/wood/WoodDataset/Test/1/1212_1.jpg', '/content/wood/WoodDataset/Test/1/1213_1.jpg', '/content/wood/WoodDataset/Test/1/1214_1.jpg', '/content/wood/WoodDataset/Test/1/1215_1.jpg', '/content/wood/WoodDataset/Test/1/1216_1.jpg']\n",
      "tcmalloc: large alloc 1361281024 bytes == 0x2fdbe000 @  0x7fdd65ca91e7 0x7fdd6384f5e1 0x7fdd638b3c78 0x7fdd638b6db8 0x7fdd638b7395 0x7fdd6394e65d 0x50a635 0x50cd96 0x507d64 0x50ae13 0x634c82 0x634d37 0x6384ef 0x639091 0x4b0d00 0x7fdd658a6b97 0x5b250a\n",
      "tcmalloc: large alloc 1361281024 bytes == 0x80ff6000 @  0x7fdd65ca91e7 0x7fdd6384f5e1 0x7fdd638b3c78 0x7fdd638b3d93 0x7fdd6393eed6 0x7fdd6393f338 0x50c29e 0x507d64 0x509a90 0x50a48d 0x50cd96 0x507d64 0x509a90 0x50a48d 0x50bfb4 0x507d64 0x509a90 0x50a48d 0x50bfb4 0x507d64 0x588e5c 0x59fc4e 0x50d356 0x507d64 0x509a90 0x50a48d 0x50bfb4 0x507d64 0x50ae13 0x634c82 0x634d37\n",
      "2020-06-06 08:56:26.495824: I tensorflow/stream_executor/platform/default/dso_loader.cc:44] Successfully opened dynamic library libcuda.so.1\n",
      "2020-06-06 08:56:26.539522: I tensorflow/stream_executor/cuda/cuda_gpu_executor.cc:981] successful NUMA node read from SysFS had negative value (-1), but there must be at least one NUMA node, so returning NUMA node zero\n",
      "2020-06-06 08:56:26.540093: I tensorflow/core/common_runtime/gpu/gpu_device.cc:1561] Found device 0 with properties: \n",
      "pciBusID: 0000:00:04.0 name: Tesla P100-PCIE-16GB computeCapability: 6.0\n",
      "coreClock: 1.3285GHz coreCount: 56 deviceMemorySize: 15.90GiB deviceMemoryBandwidth: 681.88GiB/s\n",
      "2020-06-06 08:56:26.540173: I tensorflow/stream_executor/platform/default/dso_loader.cc:44] Successfully opened dynamic library libcudart.so.10.1\n",
      "2020-06-06 08:56:26.765243: I tensorflow/stream_executor/platform/default/dso_loader.cc:44] Successfully opened dynamic library libcublas.so.10\n",
      "2020-06-06 08:56:26.889291: I tensorflow/stream_executor/platform/default/dso_loader.cc:44] Successfully opened dynamic library libcufft.so.10\n",
      "2020-06-06 08:56:26.910647: I tensorflow/stream_executor/platform/default/dso_loader.cc:44] Successfully opened dynamic library libcurand.so.10\n",
      "2020-06-06 08:56:27.180679: I tensorflow/stream_executor/platform/default/dso_loader.cc:44] Successfully opened dynamic library libcusolver.so.10\n",
      "2020-06-06 08:56:27.201119: I tensorflow/stream_executor/platform/default/dso_loader.cc:44] Successfully opened dynamic library libcusparse.so.10\n",
      "2020-06-06 08:56:27.708110: I tensorflow/stream_executor/platform/default/dso_loader.cc:44] Successfully opened dynamic library libcudnn.so.7\n",
      "2020-06-06 08:56:27.708378: I tensorflow/stream_executor/cuda/cuda_gpu_executor.cc:981] successful NUMA node read from SysFS had negative value (-1), but there must be at least one NUMA node, so returning NUMA node zero\n",
      "2020-06-06 08:56:27.709124: I tensorflow/stream_executor/cuda/cuda_gpu_executor.cc:981] successful NUMA node read from SysFS had negative value (-1), but there must be at least one NUMA node, so returning NUMA node zero\n",
      "2020-06-06 08:56:27.709730: I tensorflow/core/common_runtime/gpu/gpu_device.cc:1703] Adding visible gpu devices: 0\n",
      "2020-06-06 08:56:27.727974: I tensorflow/core/platform/profile_utils/cpu_utils.cc:102] CPU Frequency: 2200000000 Hz\n",
      "2020-06-06 08:56:27.728239: I tensorflow/compiler/xla/service/service.cc:168] XLA service 0x1f0f2c0 initialized for platform Host (this does not guarantee that XLA will be used). Devices:\n",
      "2020-06-06 08:56:27.728299: I tensorflow/compiler/xla/service/service.cc:176]   StreamExecutor device (0): Host, Default Version\n",
      "2020-06-06 08:56:27.841480: I tensorflow/stream_executor/cuda/cuda_gpu_executor.cc:981] successful NUMA node read from SysFS had negative value (-1), but there must be at least one NUMA node, so returning NUMA node zero\n",
      "2020-06-06 08:56:27.842128: I tensorflow/compiler/xla/service/service.cc:168] XLA service 0x1f0f100 initialized for platform CUDA (this does not guarantee that XLA will be used). Devices:\n",
      "2020-06-06 08:56:27.842156: I tensorflow/compiler/xla/service/service.cc:176]   StreamExecutor device (0): Tesla P100-PCIE-16GB, Compute Capability 6.0\n",
      "2020-06-06 08:56:27.843234: I tensorflow/stream_executor/cuda/cuda_gpu_executor.cc:981] successful NUMA node read from SysFS had negative value (-1), but there must be at least one NUMA node, so returning NUMA node zero\n",
      "2020-06-06 08:56:27.843763: I tensorflow/core/common_runtime/gpu/gpu_device.cc:1561] Found device 0 with properties: \n",
      "pciBusID: 0000:00:04.0 name: Tesla P100-PCIE-16GB computeCapability: 6.0\n",
      "coreClock: 1.3285GHz coreCount: 56 deviceMemorySize: 15.90GiB deviceMemoryBandwidth: 681.88GiB/s\n",
      "2020-06-06 08:56:27.843826: I tensorflow/stream_executor/platform/default/dso_loader.cc:44] Successfully opened dynamic library libcudart.so.10.1\n",
      "2020-06-06 08:56:27.843868: I tensorflow/stream_executor/platform/default/dso_loader.cc:44] Successfully opened dynamic library libcublas.so.10\n",
      "2020-06-06 08:56:27.843895: I tensorflow/stream_executor/platform/default/dso_loader.cc:44] Successfully opened dynamic library libcufft.so.10\n",
      "2020-06-06 08:56:27.843917: I tensorflow/stream_executor/platform/default/dso_loader.cc:44] Successfully opened dynamic library libcurand.so.10\n",
      "2020-06-06 08:56:27.843945: I tensorflow/stream_executor/platform/default/dso_loader.cc:44] Successfully opened dynamic library libcusolver.so.10\n",
      "2020-06-06 08:56:27.843972: I tensorflow/stream_executor/platform/default/dso_loader.cc:44] Successfully opened dynamic library libcusparse.so.10\n",
      "2020-06-06 08:56:27.843993: I tensorflow/stream_executor/platform/default/dso_loader.cc:44] Successfully opened dynamic library libcudnn.so.7\n",
      "2020-06-06 08:56:27.844075: I tensorflow/stream_executor/cuda/cuda_gpu_executor.cc:981] successful NUMA node read from SysFS had negative value (-1), but there must be at least one NUMA node, so returning NUMA node zero\n",
      "2020-06-06 08:56:27.844663: I tensorflow/stream_executor/cuda/cuda_gpu_executor.cc:981] successful NUMA node read from SysFS had negative value (-1), but there must be at least one NUMA node, so returning NUMA node zero\n",
      "2020-06-06 08:56:27.845195: I tensorflow/core/common_runtime/gpu/gpu_device.cc:1703] Adding visible gpu devices: 0\n",
      "2020-06-06 08:56:27.849150: I tensorflow/stream_executor/platform/default/dso_loader.cc:44] Successfully opened dynamic library libcudart.so.10.1\n",
      "2020-06-06 08:56:34.272905: I tensorflow/core/common_runtime/gpu/gpu_device.cc:1102] Device interconnect StreamExecutor with strength 1 edge matrix:\n",
      "2020-06-06 08:56:34.272960: I tensorflow/core/common_runtime/gpu/gpu_device.cc:1108]      0 \n",
      "2020-06-06 08:56:34.272973: I tensorflow/core/common_runtime/gpu/gpu_device.cc:1121] 0:   N \n",
      "2020-06-06 08:56:34.277602: I tensorflow/stream_executor/cuda/cuda_gpu_executor.cc:981] successful NUMA node read from SysFS had negative value (-1), but there must be at least one NUMA node, so returning NUMA node zero\n",
      "2020-06-06 08:56:34.278247: I tensorflow/stream_executor/cuda/cuda_gpu_executor.cc:981] successful NUMA node read from SysFS had negative value (-1), but there must be at least one NUMA node, so returning NUMA node zero\n",
      "2020-06-06 08:56:34.278783: W tensorflow/core/common_runtime/gpu/gpu_bfc_allocator.cc:39] Overriding allow_growth setting because the TF_FORCE_GPU_ALLOW_GROWTH environment variable is set. Original config value was 0.\n",
      "2020-06-06 08:56:34.278825: I tensorflow/core/common_runtime/gpu/gpu_device.cc:1247] Created TensorFlow device (/job:localhost/replica:0/task:0/device:GPU:0 with 14974 MB memory) -> physical GPU (device: 0, name: Tesla P100-PCIE-16GB, pci bus id: 0000:00:04.0, compute capability: 6.0)\n",
      "2020-06-06 08:56:35.319651: I tensorflow/stream_executor/platform/default/dso_loader.cc:44] Successfully opened dynamic library libcublas.so.10\n",
      "2020-06-06 08:56:36.790363: I tensorflow/stream_executor/platform/default/dso_loader.cc:44] Successfully opened dynamic library libcudnn.so.7\n",
      "89/89 [==============================] - 1s 14ms/step - loss: 2.8894e-07 - categorical_accuracy: 1.0000 - mean_absolute_error: 4.9464e-08\n",
      "Test accuracy: 1.0\n",
      "Test loss: 2.8894194770145987e-07\n",
      "Test mae: 4.946426201968279e-08\n"
     ]
    }
   ],
   "source": [
    "!python test.py"
   ]
  }
 ],
 "metadata": {
  "accelerator": "GPU",
  "colab": {
   "collapsed_sections": [],
   "name": "wood.ipynb",
   "provenance": [],
   "toc_visible": true
  },
  "kernelspec": {
   "display_name": "Python 3",
   "language": "python",
   "name": "python3"
  },
  "language_info": {
   "codemirror_mode": {
    "name": "ipython",
    "version": 3
   },
   "file_extension": ".py",
   "mimetype": "text/x-python",
   "name": "python",
   "nbconvert_exporter": "python",
   "pygments_lexer": "ipython3",
   "version": "3.7.7"
  }
 },
 "nbformat": 4,
 "nbformat_minor": 1
}
